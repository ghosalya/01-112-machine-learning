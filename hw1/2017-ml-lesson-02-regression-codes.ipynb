{
 "cells": [
  {
   "cell_type": "markdown",
   "metadata": {},
   "source": [
    "# Florida Election Data"
   ]
  },
  {
   "cell_type": "markdown",
   "metadata": {},
   "source": [
    "In this lesson, we will study the general steps required in any machine learning exercise. We will also explore linear regression for single input."
   ]
  },
  {
   "cell_type": "markdown",
   "metadata": {},
   "source": [
    "### Load Data"
   ]
  },
  {
   "cell_type": "code",
   "execution_count": 1,
   "metadata": {},
   "outputs": [
    {
     "name": "stdout",
     "output_type": "stream",
     "text": [
      "[[  1.00000000e+00   4.73000000e+04   3.40620000e+04 ...,   7.63000000e-01\n",
      "    2.40000000e-02   2.30000000e-02]\n",
      " [  2.00000000e+00   2.39200000e+03   5.61000000e+03 ...,   0.00000000e+00\n",
      "    3.70000000e-02   3.70000000e-02]\n",
      " [  3.00000000e+00   1.88500000e+04   3.86370000e+04 ...,   5.00000000e-03\n",
      "    6.30000000e-02   3.10000000e-02]\n",
      " ..., \n",
      " [  6.50000000e+01   3.83500000e+03   4.51100000e+03 ...,   1.20000000e-02\n",
      "    7.00000000e-02   0.00000000e+00]\n",
      " [  6.60000000e+01   5.63700000e+03   1.21760000e+04 ...,   1.10000000e-02\n",
      "    9.80000000e-02   3.80000000e-02]\n",
      " [  6.70000000e+01   2.79600000e+03   4.98300000e+03 ...,   0.00000000e+00\n",
      "    6.20000000e-02   1.12000000e-01]]\n",
      "(67, 22)\n"
     ]
    }
   ],
   "source": [
    "import numpy as np\n",
    "file = 'http://www.stat.cmu.edu/~larry/all-of-statistics/=Rprograms/florida-election-data.txt'\n",
    "data = np.genfromtxt(file, delimiter=' ')\n",
    "print(data)\n",
    "print(data.shape)"
   ]
  },
  {
   "cell_type": "markdown",
   "metadata": {},
   "source": [
    "### Pre-Processing"
   ]
  },
  {
   "cell_type": "code",
   "execution_count": 2,
   "metadata": {},
   "outputs": [
    {
     "name": "stdout",
     "output_type": "stream",
     "text": [
      "[  34062.    5610.   38637.    5413.  115185.  177279.    2873.   35419.\n",
      "   29744.   41745.   60426.   10964.  289456.    4256.    2698.  152082.\n",
      "   73029.   12608.    2448.    4750.    3300.    1840.    3546.    2153.\n",
      "    3764.    4743.   30646.   20196.  176967.    4985.   28627.    9138.\n",
      "    2481.    1669.   49963.  106141.   39053.    6860.    1316.    3038.\n",
      "   57948.   55135.   33864.   16059.   16404.   52043.    5058.  134476.\n",
      "   26216.  152846.   68581.  184312.   90101.   13439.   39497.   34705.\n",
      "   36248.   83100.   75293.   12126.    8014.    4051.    2326.   82214.\n",
      "    4511.   12176.    4983.]\n",
      "[  262.    73.   248.    65.   570.   789.    90.   182.   270.   186.\n",
      "   122.    89.   561.    36.    29.   650.   504.    83.    33.    39.\n",
      "    29.     9.    71.    24.    30.    22.   242.    99.   836.    76.\n",
      "   105.   102.    29.    10.   289.   305.   282.    67.    39.    29.\n",
      "   272.   563.   108.    47.    90.   267.    43.   446.   145.  3407.\n",
      "   570.  1010.   538.   147.   229.   124.   311.   305.   194.   114.\n",
      "   108.    27.    26.   396.    46.   120.    88.]\n"
     ]
    }
   ],
   "source": [
    "bush = data[:,2]\n",
    "buchanan = data[:,3]\n",
    "print(bush)\n",
    "print(buchanan)"
   ]
  },
  {
   "cell_type": "markdown",
   "metadata": {},
   "source": [
    "### Visualization"
   ]
  },
  {
   "cell_type": "code",
   "execution_count": 3,
   "metadata": {},
   "outputs": [
    {
     "data": {
      "image/png": "[encoded data removed]",
      "text/plain": [
       "<matplotlib.figure.Figure at 0x7f5fdd6f4ba8>"
      ]
     },
     "metadata": {},
     "output_type": "display_data"
    }
   ],
   "source": [
    "import matplotlib.pyplot as plt\n",
    "plt.plot(bush, buchanan, '.')\n",
    "plt.show()"
   ]
  },
  {
   "cell_type": "markdown",
   "metadata": {},
   "source": [
    "### Feature Engineering"
   ]
  },
  {
   "cell_type": "code",
   "execution_count": 4,
   "metadata": {},
   "outputs": [
    {
     "data": {
      "image/png": "[encoded data removed]",
      "text/plain": [
       "<matplotlib.figure.Figure at 0x7f5fb4634860>"
      ]
     },
     "metadata": {},
     "output_type": "display_data"
    }
   ],
   "source": [
    "x = np.log(bush)\n",
    "y = np.log(buchanan)\n",
    "plt.plot(x, y, '.')\n",
    "plt.show()"
   ]
  },
  {
   "cell_type": "markdown",
   "metadata": {},
   "source": [
    "### Model"
   ]
  },
  {
   "cell_type": "code",
   "execution_count": 5,
   "metadata": {},
   "outputs": [
    {
     "data": {
      "image/png": "[encoded data removed]",
      "text/plain": [
       "<matplotlib.figure.Figure at 0x7f5fb45b7160>"
      ]
     },
     "metadata": {},
     "output_type": "display_data"
    }
   ],
   "source": [
    "a = 1\n",
    "b = -5\n",
    "y_pred = a*x + b\n",
    "plt.plot(x, y, '.')\n",
    "plt.plot(x, y_pred)\n",
    "plt.show()"
   ]
  },
  {
   "cell_type": "markdown",
   "metadata": {},
   "source": [
    "### Training Data and Test Data"
   ]
  },
  {
   "cell_type": "markdown",
   "metadata": {},
   "source": [
    "To select a subset from an array, we can use an array of booleans of the same size."
   ]
  },
  {
   "cell_type": "code",
   "execution_count": 6,
   "metadata": {},
   "outputs": [
    {
     "name": "stdout",
     "output_type": "stream",
     "text": [
      "[2 3 5]\n"
     ]
    }
   ],
   "source": [
    "p = np.array([1,2,3,4,5])\n",
    "primes = np.array([False,True,True,False,True])\n",
    "print(p[primes])"
   ]
  },
  {
   "cell_type": "markdown",
   "metadata": {},
   "source": [
    "We create a training set with 50 points, and test set with 17 points."
   ]
  },
  {
   "cell_type": "code",
   "execution_count": 7,
   "metadata": {},
   "outputs": [
    {
     "name": "stdout",
     "output_type": "stream",
     "text": [
      "[ True  True  True  True  True  True  True  True  True  True  True  True\n",
      "  True  True  True  True  True  True  True  True  True  True  True  True\n",
      "  True  True  True  True  True  True  True  True  True  True  True  True\n",
      "  True  True  True  True  True  True  True  True  True  True  True  True\n",
      "  True  True False False False False False False False False False False\n",
      " False False False False False False False]\n",
      "[False  True False  True  True  True  True  True  True  True False  True\n",
      " False  True  True  True  True  True  True False  True  True  True  True\n",
      " False  True  True  True  True  True False False False False False False\n",
      "  True  True  True  True  True  True  True  True  True  True  True False\n",
      " False  True False  True False  True  True  True  True False  True  True\n",
      "  True  True  True  True  True  True  True]\n",
      "[ True False  True False False False False False False False  True False\n",
      "  True False False False False False False  True False False False False\n",
      "  True False False False False False  True  True  True  True  True  True\n",
      " False False False False False False False False False False False  True\n",
      "  True False  True False  True False False False False  True False False\n",
      " False False False False False False False]\n"
     ]
    }
   ],
   "source": [
    "train = np.array([True]*50+[False]*17)\n",
    "print(train)\n",
    "\n",
    "np.random.seed(1)\n",
    "np.random.shuffle(train)\n",
    "print(train)\n",
    "\n",
    "test = np.logical_not(train)\n",
    "print(test)"
   ]
  },
  {
   "cell_type": "code",
   "execution_count": 8,
   "metadata": {},
   "outputs": [
    {
     "name": "stdout",
     "output_type": "stream",
     "text": [
      "(50,)\n",
      "(17,)\n",
      "[  8.632306     8.59655875  11.65429481  12.08548004   7.96311206\n",
      "  10.47500368  10.30038271  10.63933496   9.30237246   8.35608503\n",
      "   7.90026604  11.93217513  11.1986119    9.44208681   7.80302664\n",
      "   8.10167775   7.51752085   8.17357549   7.6746175    8.46442513\n",
      "  10.33025743   9.91323984  12.08371855   8.51418868  10.57267498\n",
      "   8.83346272   7.18235211   8.01895468  10.96730134  10.91754     10.43010778\n",
      "   9.68402472   9.70528049  10.85982558   8.52872643  11.93718616\n",
      "  12.12438525   9.50591621  10.58398     10.45463905  10.49813949\n",
      "  11.22914245   9.40310719   8.98894529   8.30671904   7.75190533\n",
      "  11.31708088   8.41427414   9.40722208   8.5137874 ]\n",
      "[ 10.43593767  10.56196565  11.00917475  12.57575858   8.4658999\n",
      "   8.2332375   10.26210561   9.12019682   7.81641698   7.41997992\n",
      "  10.81903801  11.57252368  11.80914102  10.17412519  11.13577081\n",
      "  11.40868654  11.32779998]\n"
     ]
    }
   ],
   "source": [
    "trainx = x[train]\n",
    "trainy = y[train]\n",
    "testx = x[test]\n",
    "testy = y[test]\n",
    "\n",
    "print(trainx.shape)\n",
    "print(testx.shape)\n",
    "print(trainx)\n",
    "print(testx)"
   ]
  },
  {
   "cell_type": "markdown",
   "metadata": {},
   "source": [
    "### Training Loss"
   ]
  },
  {
   "cell_type": "markdown",
   "metadata": {},
   "source": [
    "To measure how well a line fits the training data, we use the squared error as a loss function. \n",
    "$$ \\begin{align}\n",
    " & \\\\\n",
    "\\text{Loss}(z) = \\frac{1}{2}z^2\\\\\n",
    "& \\\\\n",
    "\\end{align}\n",
    "$$\n",
    "The training loss is then the average loss for the training data.\n",
    "$$ \\begin{align}\n",
    " & \\\\\n",
    "\\mathcal{L}(a,b)&= \\frac{1}{n}\\sum_{\\text{data }(x,y)} \\text{Loss}(ax+b-y)\\\\\n",
    "&= \\frac{1}{n}\\sum_{\\text{data }(x,y)} \\frac{1}{2}(ax+b-y)^2\n",
    "\\end{align}\n",
    "$$"
   ]
  },
  {
   "cell_type": "code",
   "execution_count": 9,
   "metadata": {},
   "outputs": [
    {
     "name": "stdout",
     "output_type": "stream",
     "text": [
      "0.112101126251\n"
     ]
    }
   ],
   "source": [
    "def loss(z):\n",
    "    return 1/2*z**2\n",
    "\n",
    "def train_loss(a, b):\n",
    "    y_pred = a*trainx + b\n",
    "    error = y_pred - trainy\n",
    "    return np.average(loss(error))\n",
    "\n",
    "print(train_loss(0.8,-3))"
   ]
  },
  {
   "cell_type": "markdown",
   "metadata": {},
   "source": [
    "### Gradient"
   ]
  },
  {
   "cell_type": "markdown",
   "metadata": {},
   "source": [
    "To minimize $\\mathcal{L}(a,b)$, we find points $(a,b)$ where the gradient is zero.\n",
    "$$ \\begin{align}\n",
    " & \\\\\n",
    "\\frac{\\partial L}{\\partial a} &= \\frac{1}{n}\\sum_{\\text{data }(x,y)} (ax+b-y) x \\\\\n",
    "&= \\left(\\frac{1}{n}\\sum_{\\text{data }(x,y)} x^2\\right) a + \\left(\\frac{1}{n}\\sum_{\\text{data }(x,y)} x\\right) b - \\left(\\frac{1}{n}\\sum_{\\text{data }(x,y)} xy\\right) = P_{11} a + P_{12} b - Q_1 \\\\\n",
    " & \\\\\n",
    "\\frac{\\partial L}{\\partial b} &= \\frac{1}{n}\\sum_{\\text{data }(x,y)} (ax+b-y) \\\\\n",
    "&= \\left(\\frac{1}{n}\\sum_{\\text{data }(x,y)} x\\right) a + \\left(\\frac{1}{n}\\sum_{\\text{data }(x,y)} 1\\right) b - \\left(\\frac{1}{n}\\sum_{\\text{data }(x,y)} y\\right) = P_{21} a + P_{22} b - Q_2 \n",
    "\\end{align}\n",
    "$$"
   ]
  },
  {
   "cell_type": "markdown",
   "metadata": {},
   "source": [
    "### Least Squares"
   ]
  },
  {
   "cell_type": "markdown",
   "metadata": {},
   "source": [
    "We want to solve\n",
    "$$\\begin{align}\n",
    "0=\\frac{\\partial L}{\\partial a} &= P_{11} a + P_{12} b - Q_1 \\\\\n",
    " & \\\\\n",
    "0=\\frac{\\partial L}{\\partial b} &= P_{21} a + P_{22} b - Q_2 \n",
    "\\end{align}\n",
    "$$\n",
    "which can be written as\n",
    "$$\n",
    "P \\begin{pmatrix}a \\\\b \\end{pmatrix} = Q,\n",
    "$$\n",
    "so the solution is\n",
    "$$\n",
    "\\hat{\\theta}=\\begin{pmatrix}\\hat{a} \\\\\\hat{b} \\end{pmatrix} = P^{-1}Q.\n",
    "$$"
   ]
  },
  {
   "cell_type": "code",
   "execution_count": 10,
   "metadata": {},
   "outputs": [
    {
     "name": "stdout",
     "output_type": "stream",
     "text": [
      "0.779059466445\n",
      "-2.72051001785\n"
     ]
    }
   ],
   "source": [
    "def least_squares(x, y):\n",
    "    P11 = np.average(x**2)\n",
    "    P12 = np.average(x)\n",
    "    P21 = np.average(x)\n",
    "    P22 = 1\n",
    "    \n",
    "    Q1  = np.average(x*y)\n",
    "    Q2  = np.average(y)\n",
    "\n",
    "    P = np.array([[P11,P12],[P21,P22]])\n",
    "    Q = np.array([[Q1],[Q2]])\n",
    "    \n",
    "    theta_hat = np.dot(np.linalg.inv(P),Q)\n",
    "    \n",
    "    a_hat = theta_hat[0,0]\n",
    "    b_hat = theta_hat[1,0]\n",
    "    return a_hat, b_hat\n",
    "\n",
    "a_hat, b_hat = least_squares(trainx, trainy)\n",
    "print(a_hat)\n",
    "print(b_hat)"
   ]
  },
  {
   "cell_type": "code",
   "execution_count": 11,
   "metadata": {},
   "outputs": [
    {
     "data": {
      "image/png": "[encoded data removed]",
      "text/plain": [
       "<matplotlib.figure.Figure at 0x7f5fb4541f98>"
      ]
     },
     "metadata": {},
     "output_type": "display_data"
    }
   ],
   "source": [
    "y_pred = a_hat*trainx + b_hat\n",
    "plt.plot(trainx, trainy, '.')\n",
    "plt.plot(trainx, y_pred)\n",
    "plt.show()"
   ]
  },
  {
   "cell_type": "markdown",
   "metadata": {},
   "source": [
    "The training loss is"
   ]
  },
  {
   "cell_type": "code",
   "execution_count": 12,
   "metadata": {},
   "outputs": [
    {
     "name": "stdout",
     "output_type": "stream",
     "text": [
      "0.169025539158\n"
     ]
    }
   ],
   "source": [
    "print(train_loss(a,b))"
   ]
  },
  {
   "cell_type": "markdown",
   "metadata": {},
   "source": [
    "### Test Loss"
   ]
  },
  {
   "cell_type": "markdown",
   "metadata": {},
   "source": [
    "The test loss is"
   ]
  },
  {
   "cell_type": "code",
   "execution_count": 13,
   "metadata": {},
   "outputs": [
    {
     "name": "stdout",
     "output_type": "stream",
     "text": [
      "0.108244421628\n"
     ]
    }
   ],
   "source": [
    "def test_loss(a, b):\n",
    "    y_pred = a*testx + b\n",
    "    error = y_pred - testy\n",
    "    return np.average(loss(error))\n",
    "\n",
    "print(test_loss(a_hat,b_hat))"
   ]
  },
  {
   "cell_type": "markdown",
   "metadata": {},
   "source": [
    "### Can we do better?"
   ]
  },
  {
   "cell_type": "code",
   "execution_count": 14,
   "metadata": {},
   "outputs": [
    {
     "data": {
      "image/png": "[encoded data removed]",
      "text/plain": [
       "<matplotlib.figure.Figure at 0x7f5fb462f9e8>"
      ]
     },
     "metadata": {},
     "output_type": "display_data"
    }
   ],
   "source": [
    "plt.plot(trainx, trainy, '.')\n",
    "plt.plot(testx, testy, 'r.')\n",
    "plt.show()"
   ]
  },
  {
   "cell_type": "code",
   "execution_count": 15,
   "metadata": {},
   "outputs": [
    {
     "data": {
      "image/png": "[encoded data removed]",
      "text/plain": [
       "<matplotlib.figure.Figure at 0x7f5fb43aa358>"
      ]
     },
     "metadata": {},
     "output_type": "display_data"
    }
   ],
   "source": [
    "abs_error = abs(a_hat*trainx + b_hat - trainy)\n",
    "plt.hist(abs_error)\n",
    "plt.show()"
   ]
  },
  {
   "cell_type": "markdown",
   "metadata": {},
   "source": [
    "### Removing Outliers"
   ]
  },
  {
   "cell_type": "code",
   "execution_count": 16,
   "metadata": {},
   "outputs": [
    {
     "name": "stdout",
     "output_type": "stream",
     "text": [
      "49\n"
     ]
    }
   ],
   "source": [
    "new = abs_error < 1.25\n",
    "newx = trainx[new]\n",
    "newy = trainy[new]\n",
    "print(newx.size)"
   ]
  },
  {
   "cell_type": "code",
   "execution_count": 17,
   "metadata": {},
   "outputs": [
    {
     "name": "stdout",
     "output_type": "stream",
     "text": [
      "0.108244421628\n",
      "0.0944273807889\n"
     ]
    }
   ],
   "source": [
    "newa_hat,newb_hat = least_squares(newx,newy)\n",
    "print(test_loss(a_hat,b_hat))\n",
    "print(test_loss(newa_hat,newb_hat))"
   ]
  },
  {
   "cell_type": "code",
   "execution_count": 18,
   "metadata": {},
   "outputs": [
    {
     "name": "stdout",
     "output_type": "stream",
     "text": [
      "0.108624916904\n",
      "0.110699404555\n"
     ]
    }
   ],
   "source": [
    "print(train_loss(a_hat,b_hat))\n",
    "print(train_loss(newa_hat,newb_hat))"
   ]
  }
 ],
 "metadata": {
  "kernelspec": {
   "display_name": "Python 3",
   "language": "python",
   "name": "python3"
  },
  "language_info": {
   "codemirror_mode": {
    "name": "ipython",
    "version": 3
   },
   "file_extension": ".py",
   "mimetype": "text/x-python",
   "name": "python",
   "nbconvert_exporter": "python",
   "pygments_lexer": "ipython3",
   "version": "3.6.0"
  }
 },
 "nbformat": 4,
 "nbformat_minor": 2
}
