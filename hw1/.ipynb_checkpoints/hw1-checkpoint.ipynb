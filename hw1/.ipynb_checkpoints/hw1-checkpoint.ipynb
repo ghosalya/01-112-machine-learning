{
 "cells": [
  {
   "cell_type": "markdown",
   "metadata": {},
   "source": [
    "# ML - Homework 1\n",
    "\n",
    "**Gede Ria Ghosalya - 1001841**\n",
    "\n",
    "Note: Question 1 on last page"
   ]
  },
  {
   "cell_type": "code",
   "execution_count": 1,
   "metadata": {
    "collapsed": true
   },
   "outputs": [],
   "source": [
    "%matplotlib inline"
   ]
  },
  {
   "cell_type": "code",
   "execution_count": 2,
   "metadata": {},
   "outputs": [
    {
     "data": {
      "text/plain": [
       "2"
      ]
     },
     "execution_count": 2,
     "metadata": {},
     "output_type": "execute_result"
    }
   ],
   "source": [
    "1+1"
   ]
  },
  {
   "cell_type": "code",
   "execution_count": 3,
   "metadata": {
    "collapsed": true
   },
   "outputs": [],
   "source": [
    "import numpy as np\n",
    "import matplotlib.pyplot as plt"
   ]
  },
  {
   "cell_type": "code",
   "execution_count": 4,
   "metadata": {
    "collapsed": true
   },
   "outputs": [],
   "source": [
    "csv='https://www.dropbox.com/s/oqoyy9p849ewzt2/linear.csv?dl=1'"
   ]
  },
  {
   "cell_type": "code",
   "execution_count": 5,
   "metadata": {
    "collapsed": true
   },
   "outputs": [],
   "source": [
    "data = np.genfromtxt(csv, delimiter=',')\n",
    "X = data[:,1:]\n",
    "Y = data[:,0]"
   ]
  },
  {
   "cell_type": "code",
   "execution_count": 6,
   "metadata": {},
   "outputs": [
    {
     "name": "stdout",
     "output_type": "stream",
     "text": [
      "[[-1.47752373 -0.0502532  -0.17023633  1.        ]\n",
      " [ 0.90709037  0.66451566  0.47865149  1.        ]\n",
      " [ 0.4003217   0.43267376 -0.43504849  1.        ]\n",
      " [-1.65365073  0.126796    1.00236757  1.        ]\n",
      " [-1.06691275 -0.83842795 -0.34888078  1.        ]\n",
      " [-0.68878191 -0.80913707  0.43642513  1.        ]\n",
      " [ 0.35745996  1.13429946  1.56657725  1.        ]\n",
      " [ 0.09528788 -2.06401766  1.04123572  1.        ]\n",
      " [ 1.23035184  1.61568621  1.48715984  1.        ]\n",
      " [-0.83620287  0.07849988  2.13596839  1.        ]\n",
      " [-0.43319969 -0.63613778 -0.38595494  1.        ]\n",
      " [ 0.28831115  0.24175838 -0.16395618  1.        ]\n",
      " [-2.13894535  0.97237413  0.10424867  1.        ]\n",
      " [ 0.99927052 -1.11433758 -0.45458174  1.        ]\n",
      " [ 0.49052428 -0.92271326 -0.35495995  1.        ]\n",
      " [ 0.38507689  0.08352817  0.02790376  1.        ]\n",
      " [ 0.69112273 -1.00672565 -0.88943049  1.        ]\n",
      " [-0.41774901  0.40816784  1.80858458  1.        ]\n",
      " [ 0.49400495  1.02792757 -1.00655099  1.        ]\n",
      " [ 0.58197659  0.63871748 -1.42460059  1.        ]\n",
      " [-0.01784407  0.71766039 -0.61215247  1.        ]\n",
      " [ 0.87391878 -1.75733762  0.4195343   1.        ]\n",
      " [-0.66181284  0.49298387 -0.04672385  1.        ]\n",
      " [ 1.23736049  2.21406654  1.58620271  1.        ]\n",
      " [-1.0553783   0.8954994  -1.84451136  1.        ]\n",
      " [ 2.30714568  0.25333497 -0.48961114  1.        ]\n",
      " [-0.4755072   2.056542    1.57110362  1.        ]\n",
      " [ 1.41596994 -0.92738418 -0.05858269  1.        ]\n",
      " [ 1.62513334 -1.12246556 -1.09691528  1.        ]\n",
      " [ 0.40780549  1.02729963 -0.04277794  1.        ]\n",
      " [ 1.06301487 -1.61341439  0.45159474  1.        ]\n",
      " [-0.67374261  0.74646502  0.88104198  1.        ]\n",
      " [ 0.13187129  0.31486386  1.09636616  1.        ]\n",
      " [-0.21322547  0.74141203  0.80339276  1.        ]\n",
      " [ 1.05339677  1.225563    0.16642039  1.        ]\n",
      " [ 0.15524151  0.10448045 -0.52662439  1.        ]\n",
      " [-0.69002679  0.84764888 -0.15939914  1.        ]\n",
      " [-0.45254444  0.74638293 -0.14693742  1.        ]\n",
      " [ 0.99099792 -0.99198341  0.56108373  1.        ]\n",
      " [ 0.53267167 -0.61727065  0.5028914   1.        ]\n",
      " [-1.94765626  0.15310133  0.55662237  1.        ]\n",
      " [ 1.46155517 -0.28306337  1.09531722  1.        ]\n",
      " [ 0.54346479 -1.82947935 -0.0865562   1.        ]\n",
      " [-0.31688096  0.67619353  0.30241958  1.        ]\n",
      " [-0.79405799 -0.02982322 -1.87777205  1.        ]\n",
      " [ 0.27861628  1.48764306 -1.04769245  1.        ]\n",
      " [ 0.61099245  1.00413207  0.56495587  1.        ]\n",
      " [ 0.06320248  1.48185744  0.07624095  1.        ]\n",
      " [-0.97676235  0.85265757 -0.78701903  1.        ]\n",
      " [-1.93031271 -0.60963352  0.77863057  1.        ]]\n"
     ]
    }
   ],
   "source": [
    "print(X)"
   ]
  },
  {
   "cell_type": "code",
   "execution_count": 7,
   "metadata": {},
   "outputs": [
    {
     "data": {
      "text/plain": [
       "array([-1.13933054, -1.3895628 , -1.46427865, -0.77140228, -2.45451924,\n",
       "       -2.53173137, -0.58514703, -4.53260862, -0.59382424, -1.38688906,\n",
       "       -2.49527767, -1.73538943,  0.91300105, -4.14696407, -3.47921988,\n",
       "       -2.00766789, -3.72876357, -1.11373905, -0.71692356, -1.33254433,\n",
       "       -0.98473649, -4.77208525, -0.98948768,  0.44472789, -0.12907069,\n",
       "       -2.77946764,  1.20221693, -3.91963952, -4.37192529, -0.49844168,\n",
       "       -4.59804439, -0.38216805, -1.56516376, -0.7208978 , -0.7242968 ,\n",
       "       -1.8829538 , -0.23740276, -0.71488811, -3.6406235 , -3.01168857,\n",
       "       -0.47759712, -3.12712799, -4.75174197, -0.69416697, -1.65252122,\n",
       "       -0.09836427, -0.87381787, -0.01287334, -0.06954225, -1.70276013])"
      ]
     },
     "execution_count": 7,
     "metadata": {},
     "output_type": "execute_result"
    }
   ],
   "source": [
    "Y"
   ]
  },
  {
   "cell_type": "code",
   "execution_count": 8,
   "metadata": {
    "collapsed": true
   },
   "outputs": [],
   "source": [
    "import theano"
   ]
  },
  {
   "cell_type": "code",
   "execution_count": 9,
   "metadata": {
    "collapsed": true
   },
   "outputs": [],
   "source": [
    "import theano.tensor as T\n",
    "d = X.shape[1] \n",
    "n = X.shape[0]\n",
    "learn_rate = 0.5"
   ]
  },
  {
   "cell_type": "code",
   "execution_count": 10,
   "metadata": {
    "collapsed": true
   },
   "outputs": [],
   "source": [
    "x = T.matrix(name='x')\n",
    "y = T.vector(name='y')\n",
    "w = theano.shared(np.zeros((d,1)),name='w')"
   ]
  },
  {
   "cell_type": "code",
   "execution_count": 11,
   "metadata": {
    "collapsed": true
   },
   "outputs": [],
   "source": [
    "risk = T.sum((T.dot(x,w).T-y)**2)/(2*n)\n",
    "grad_risk = T.grad(risk, wrt=w)"
   ]
  },
  {
   "cell_type": "code",
   "execution_count": 12,
   "metadata": {
    "collapsed": true
   },
   "outputs": [],
   "source": [
    "train_model = theano.function(inputs=[],\n",
    "                              outputs=risk,\n",
    "                              updates=[(w, w-learn_rate*grad_risk)],\n",
    "                              givens={x:X,y:Y})"
   ]
  },
  {
   "cell_type": "code",
   "execution_count": 13,
   "metadata": {},
   "outputs": [
    {
     "name": "stdout",
     "output_type": "stream",
     "text": [
      "2.619322008585456\n",
      "0.7587559422725657\n",
      "0.23542812224973023\n",
      "0.07939576047330808\n",
      "0.0300968963645766\n",
      "0.013695201975103278\n",
      "0.008006092308871303\n",
      "0.005970446508700004\n",
      "0.005225932117259171\n",
      "0.004949550127903775\n",
      "0.004845924776165536\n",
      "0.004806813029966767\n",
      "0.004791984242871616\n",
      "0.004786344307210613\n",
      "0.004784194268800788\n",
      "0.0047833731708215\n",
      "0.004783059133878647\n",
      "0.004782938874883767\n",
      "0.004782892769416032\n",
      "0.004782875074349396\n",
      "0.004782868276122439\n",
      "0.004782865661743263\n",
      "0.004782864655366252\n",
      "0.004782864267605405\n",
      "0.004782864118060609\n",
      "0.004782864060333999\n",
      "0.004782864038030567\n",
      "0.004782864029405719\n",
      "0.004782864026067558\n",
      "0.004782864024774455\n",
      "0.004782864024273132\n",
      "0.004782864024078615\n",
      "0.004782864024003074\n",
      "0.0047828640239737236\n",
      "0.004782864023962309\n",
      "0.004782864023957866\n",
      "0.004782864023956133\n",
      "0.004782864023955461\n",
      "0.004782864023955196\n",
      "0.0047828640239550935\n",
      "0.004782864023955061\n",
      "0.004782864023955039\n",
      "0.004782864023955036\n",
      "0.004782864023955029\n",
      "0.00478286402395503\n",
      "0.004782864023955029\n",
      "0.004782864023955028\n",
      "0.00478286402395503\n",
      "0.00478286402395503\n",
      "0.004782864023955033\n"
     ]
    }
   ],
   "source": [
    "n_steps = 50\n",
    "for i in range(n_steps):\n",
    "    print(train_model())"
   ]
  },
  {
   "cell_type": "markdown",
   "metadata": {},
   "source": [
    "### Question 3a"
   ]
  },
  {
   "cell_type": "code",
   "execution_count": 14,
   "metadata": {},
   "outputs": [
    {
     "name": "stdout",
     "output_type": "stream",
     "text": [
      "[[-0.57392068]\n",
      " [ 1.35757059]\n",
      " [ 0.01527565]\n",
      " [-1.88288076]]\n"
     ]
    }
   ],
   "source": [
    "print(w.get_value())"
   ]
  },
  {
   "cell_type": "markdown",
   "metadata": {},
   "source": [
    "### Question 3b\n",
    "Parameter (from https://onlinecourses.science.psu.edu/stat501/node/382)\n",
    "\n",
    "$$ \\begin{aligned}\n",
    "b=\\begin{bmatrix} b_0\\\\  b_1\\\\  \\vdots\\\\  b_{p-1} \\end{bmatrix}=(X^{'}X)^{-1}X^{'}Y\n",
    "\\end{aligned}\n",
    "$$"
   ]
  },
  {
   "cell_type": "code",
   "execution_count": 15,
   "metadata": {},
   "outputs": [
    {
     "name": "stdout",
     "output_type": "stream",
     "text": [
      "[-0.57392068  1.35757059  0.01527565 -1.88288076]\n"
     ]
    }
   ],
   "source": [
    "# B = (X'X)*X'Y\n",
    "Xt = np.transpose(X)    # X'\n",
    "Xn = np.matmul(Xt, X)   # (X'X)\n",
    "Xin = np.linalg.inv(Xn) # (X'X)*\n",
    "Xa = np.matmul(Xin, Xt) # (X'X)*X'\n",
    "B = np.matmul(Xa, Y)\n",
    "print(B)"
   ]
  },
  {
   "cell_type": "markdown",
   "metadata": {},
   "source": [
    "**w** have exactly same parameter as *B*"
   ]
  },
  {
   "cell_type": "markdown",
   "metadata": {},
   "source": [
    "### Question 3c\n",
    "using *scipy's* SKLearn"
   ]
  },
  {
   "cell_type": "code",
   "execution_count": 16,
   "metadata": {},
   "outputs": [
    {
     "name": "stdout",
     "output_type": "stream",
     "text": [
      "[-0.57392068  1.35757059  0.01527565  0.        ]\n"
     ]
    }
   ],
   "source": [
    "# question 3c\n",
    "# using scipy's sklearn\n",
    "from sklearn.linear_model import LinearRegression\n",
    "lrg = LinearRegression()\n",
    "lrg.fit(X, Y)\n",
    "print(lrg.coef_)"
   ]
  },
  {
   "cell_type": "markdown",
   "metadata": {},
   "source": [
    "**w** has the first 3 coefficient to be the same as SKLearn's *parameters*, but the last one is regarded as 0 by SKLearn."
   ]
  },
  {
   "cell_type": "markdown",
   "metadata": {},
   "source": [
    "![picture](q1.jpg)"
   ]
  },
  {
   "cell_type": "code",
   "execution_count": null,
   "metadata": {
    "collapsed": true
   },
   "outputs": [],
   "source": []
  }
 ],
 "metadata": {
  "kernelspec": {
   "display_name": "Python 3",
   "language": "python",
   "name": "python3"
  },
  "language_info": {
   "codemirror_mode": {
    "name": "ipython",
    "version": 3
   },
   "file_extension": ".py",
   "mimetype": "text/x-python",
   "name": "python",
   "nbconvert_exporter": "python",
   "pygments_lexer": "ipython3",
   "version": "3.6.0"
  }
 },
 "nbformat": 4,
 "nbformat_minor": 2
}
